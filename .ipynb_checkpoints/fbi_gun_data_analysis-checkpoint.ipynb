{
 "cells": [
  {
   "cell_type": "markdown",
   "metadata": {
    "nbpresent": {
     "id": "0167a1b3-2095-4c04-bd98-f7cb211e9abe"
    }
   },
   "source": [
    "# FBI Gun Data Analysis\n",
    "\n",
    "## Table of Content:\n",
    "<ul>\n",
    "<li><a href = '#introduction'>Introduction</a></li>\n",
    "<li><a href = '#data_wrangling'>Data Wrangling</a></li>\n",
    "<li><a href = '#exploratory_data_analysis'>Exploratory Data Analysis</a></li>\n",
    "<li><a href = '#conclusion'>Conclusion</a></li>\n",
    "<ul>\n",
    "    "
   ]
  },
  {
   "cell_type": "markdown",
   "metadata": {
    "nbpresent": {
     "id": "4b6cda3f-cacd-4b9c-af37-279ba8e0598e"
    }
   },
   "source": [
    "<a id='introduction'></a>\n",
    "## Introduction\n",
    "\n"
   ]
  },
  {
   "cell_type": "markdown",
   "metadata": {
    "nbpresent": {
     "id": "9ed70138-c769-4ee6-b4ac-c8fd7404985d"
    }
   },
   "source": [
    "<a id = 'data_wrangling'></a>\n",
    "## Data Wrangling"
   ]
  },
  {
   "cell_type": "code",
   "execution_count": 31,
   "metadata": {
    "nbpresent": {
     "id": "f5e88cf4-c25c-476a-b610-27596637bd86"
    }
   },
   "outputs": [],
   "source": [
    "#import all needed libraries\n",
    "import pandas as pd\n",
    "import numpy as np\n",
    "import matplotlib.pyplot as plt\n",
    "import seaborn as sea\n",
    "%matplotlib inline\n"
   ]
  },
  {
   "cell_type": "code",
   "execution_count": 32,
   "metadata": {
    "nbpresent": {
     "id": "76c08797-c9f6-406a-b157-3e38ead984bd"
    }
   },
   "outputs": [
    {
     "data": {
      "text/html": [
       "<div>\n",
       "<style scoped>\n",
       "    .dataframe tbody tr th:only-of-type {\n",
       "        vertical-align: middle;\n",
       "    }\n",
       "\n",
       "    .dataframe tbody tr th {\n",
       "        vertical-align: top;\n",
       "    }\n",
       "\n",
       "    .dataframe thead th {\n",
       "        text-align: right;\n",
       "    }\n",
       "</style>\n",
       "<table border=\"1\" class=\"dataframe\">\n",
       "  <thead>\n",
       "    <tr style=\"text-align: right;\">\n",
       "      <th></th>\n",
       "      <th>Fact</th>\n",
       "      <th>Fact Note</th>\n",
       "      <th>Alabama</th>\n",
       "      <th>Alaska</th>\n",
       "      <th>Arizona</th>\n",
       "      <th>Arkansas</th>\n",
       "      <th>California</th>\n",
       "      <th>Colorado</th>\n",
       "      <th>Connecticut</th>\n",
       "      <th>Delaware</th>\n",
       "      <th>...</th>\n",
       "      <th>South Dakota</th>\n",
       "      <th>Tennessee</th>\n",
       "      <th>Texas</th>\n",
       "      <th>Utah</th>\n",
       "      <th>Vermont</th>\n",
       "      <th>Virginia</th>\n",
       "      <th>Washington</th>\n",
       "      <th>West Virginia</th>\n",
       "      <th>Wisconsin</th>\n",
       "      <th>Wyoming</th>\n",
       "    </tr>\n",
       "  </thead>\n",
       "  <tbody>\n",
       "    <tr>\n",
       "      <th>0</th>\n",
       "      <td>Population estimates, July 1, 2016,  (V2016)</td>\n",
       "      <td>NaN</td>\n",
       "      <td>4,863,300</td>\n",
       "      <td>741,894</td>\n",
       "      <td>6,931,071</td>\n",
       "      <td>2,988,248</td>\n",
       "      <td>39,250,017</td>\n",
       "      <td>5,540,545</td>\n",
       "      <td>3,576,452</td>\n",
       "      <td>952,065</td>\n",
       "      <td>...</td>\n",
       "      <td>865454</td>\n",
       "      <td>6651194</td>\n",
       "      <td>27,862,596</td>\n",
       "      <td>3,051,217</td>\n",
       "      <td>624,594</td>\n",
       "      <td>8,411,808</td>\n",
       "      <td>7,288,000</td>\n",
       "      <td>1,831,102</td>\n",
       "      <td>5,778,708</td>\n",
       "      <td>585,501</td>\n",
       "    </tr>\n",
       "    <tr>\n",
       "      <th>1</th>\n",
       "      <td>Population estimates base, April 1, 2010,  (V2...</td>\n",
       "      <td>NaN</td>\n",
       "      <td>4,780,131</td>\n",
       "      <td>710,249</td>\n",
       "      <td>6,392,301</td>\n",
       "      <td>2,916,025</td>\n",
       "      <td>37,254,522</td>\n",
       "      <td>5,029,324</td>\n",
       "      <td>3,574,114</td>\n",
       "      <td>897,936</td>\n",
       "      <td>...</td>\n",
       "      <td>814195</td>\n",
       "      <td>6346298</td>\n",
       "      <td>25,146,100</td>\n",
       "      <td>2,763,888</td>\n",
       "      <td>625,741</td>\n",
       "      <td>8,001,041</td>\n",
       "      <td>6,724,545</td>\n",
       "      <td>1,853,011</td>\n",
       "      <td>5,687,289</td>\n",
       "      <td>563,767</td>\n",
       "    </tr>\n",
       "    <tr>\n",
       "      <th>2</th>\n",
       "      <td>Population, percent change - April 1, 2010 (es...</td>\n",
       "      <td>NaN</td>\n",
       "      <td>1.70%</td>\n",
       "      <td>4.50%</td>\n",
       "      <td>8.40%</td>\n",
       "      <td>2.50%</td>\n",
       "      <td>5.40%</td>\n",
       "      <td>10.20%</td>\n",
       "      <td>0.10%</td>\n",
       "      <td>6.00%</td>\n",
       "      <td>...</td>\n",
       "      <td>0.063</td>\n",
       "      <td>0.048</td>\n",
       "      <td>10.80%</td>\n",
       "      <td>10.40%</td>\n",
       "      <td>-0.20%</td>\n",
       "      <td>5.10%</td>\n",
       "      <td>8.40%</td>\n",
       "      <td>-1.20%</td>\n",
       "      <td>1.60%</td>\n",
       "      <td>3.90%</td>\n",
       "    </tr>\n",
       "    <tr>\n",
       "      <th>3</th>\n",
       "      <td>Population, Census, April 1, 2010</td>\n",
       "      <td>NaN</td>\n",
       "      <td>4,779,736</td>\n",
       "      <td>710,231</td>\n",
       "      <td>6,392,017</td>\n",
       "      <td>2,915,918</td>\n",
       "      <td>37,253,956</td>\n",
       "      <td>5,029,196</td>\n",
       "      <td>3,574,097</td>\n",
       "      <td>897,934</td>\n",
       "      <td>...</td>\n",
       "      <td>814180</td>\n",
       "      <td>6346105</td>\n",
       "      <td>25,145,561</td>\n",
       "      <td>2,763,885</td>\n",
       "      <td>625,741</td>\n",
       "      <td>8,001,024</td>\n",
       "      <td>6,724,540</td>\n",
       "      <td>1,852,994</td>\n",
       "      <td>5,686,986</td>\n",
       "      <td>563,626</td>\n",
       "    </tr>\n",
       "    <tr>\n",
       "      <th>4</th>\n",
       "      <td>Persons under 5 years, percent, July 1, 2016, ...</td>\n",
       "      <td>NaN</td>\n",
       "      <td>6.00%</td>\n",
       "      <td>7.30%</td>\n",
       "      <td>6.30%</td>\n",
       "      <td>6.40%</td>\n",
       "      <td>6.30%</td>\n",
       "      <td>6.10%</td>\n",
       "      <td>5.20%</td>\n",
       "      <td>5.80%</td>\n",
       "      <td>...</td>\n",
       "      <td>0.071</td>\n",
       "      <td>0.061</td>\n",
       "      <td>7.20%</td>\n",
       "      <td>8.30%</td>\n",
       "      <td>4.90%</td>\n",
       "      <td>6.10%</td>\n",
       "      <td>6.20%</td>\n",
       "      <td>5.50%</td>\n",
       "      <td>5.80%</td>\n",
       "      <td>6.50%</td>\n",
       "    </tr>\n",
       "  </tbody>\n",
       "</table>\n",
       "<p>5 rows × 52 columns</p>\n",
       "</div>"
      ],
      "text/plain": [
       "                                                Fact Fact Note    Alabama  \\\n",
       "0       Population estimates, July 1, 2016,  (V2016)       NaN  4,863,300   \n",
       "1  Population estimates base, April 1, 2010,  (V2...       NaN  4,780,131   \n",
       "2  Population, percent change - April 1, 2010 (es...       NaN      1.70%   \n",
       "3                  Population, Census, April 1, 2010       NaN  4,779,736   \n",
       "4  Persons under 5 years, percent, July 1, 2016, ...       NaN      6.00%   \n",
       "\n",
       "    Alaska    Arizona   Arkansas  California   Colorado Connecticut Delaware  \\\n",
       "0  741,894  6,931,071  2,988,248  39,250,017  5,540,545   3,576,452  952,065   \n",
       "1  710,249  6,392,301  2,916,025  37,254,522  5,029,324   3,574,114  897,936   \n",
       "2    4.50%      8.40%      2.50%       5.40%     10.20%       0.10%    6.00%   \n",
       "3  710,231  6,392,017  2,915,918  37,253,956  5,029,196   3,574,097  897,934   \n",
       "4    7.30%      6.30%      6.40%       6.30%      6.10%       5.20%    5.80%   \n",
       "\n",
       "    ...    South Dakota Tennessee       Texas       Utah  Vermont   Virginia  \\\n",
       "0   ...          865454   6651194  27,862,596  3,051,217  624,594  8,411,808   \n",
       "1   ...          814195   6346298  25,146,100  2,763,888  625,741  8,001,041   \n",
       "2   ...           0.063     0.048      10.80%     10.40%   -0.20%      5.10%   \n",
       "3   ...          814180   6346105  25,145,561  2,763,885  625,741  8,001,024   \n",
       "4   ...           0.071     0.061       7.20%      8.30%    4.90%      6.10%   \n",
       "\n",
       "  Washington West Virginia  Wisconsin  Wyoming  \n",
       "0  7,288,000     1,831,102  5,778,708  585,501  \n",
       "1  6,724,545     1,853,011  5,687,289  563,767  \n",
       "2      8.40%        -1.20%      1.60%    3.90%  \n",
       "3  6,724,540     1,852,994  5,686,986  563,626  \n",
       "4      6.20%         5.50%      5.80%    6.50%  \n",
       "\n",
       "[5 rows x 52 columns]"
      ]
     },
     "execution_count": 32,
     "metadata": {},
     "output_type": "execute_result"
    }
   ],
   "source": [
    "#show orginal data of 'us_census data.csv':\n",
    "df1 = pd.read_csv('us_census data.csv')\n",
    "df1.head()"
   ]
  },
  {
   "cell_type": "code",
   "execution_count": 33,
   "metadata": {
    "nbpresent": {
     "id": "080b598b-ce48-4a15-a094-abae91b0c73d"
    }
   },
   "outputs": [
    {
     "data": {
      "text/html": [
       "<div>\n",
       "<style scoped>\n",
       "    .dataframe tbody tr th:only-of-type {\n",
       "        vertical-align: middle;\n",
       "    }\n",
       "\n",
       "    .dataframe tbody tr th {\n",
       "        vertical-align: top;\n",
       "    }\n",
       "\n",
       "    .dataframe thead th {\n",
       "        text-align: right;\n",
       "    }\n",
       "</style>\n",
       "<table border=\"1\" class=\"dataframe\">\n",
       "  <thead>\n",
       "    <tr style=\"text-align: right;\">\n",
       "      <th></th>\n",
       "      <th>Fact</th>\n",
       "      <th>Alabama</th>\n",
       "      <th>Alaska</th>\n",
       "      <th>Arizona</th>\n",
       "      <th>Arkansas</th>\n",
       "      <th>California</th>\n",
       "      <th>Colorado</th>\n",
       "      <th>Connecticut</th>\n",
       "      <th>Delaware</th>\n",
       "      <th>Florida</th>\n",
       "      <th>...</th>\n",
       "      <th>South Dakota</th>\n",
       "      <th>Tennessee</th>\n",
       "      <th>Texas</th>\n",
       "      <th>Utah</th>\n",
       "      <th>Vermont</th>\n",
       "      <th>Virginia</th>\n",
       "      <th>Washington</th>\n",
       "      <th>West Virginia</th>\n",
       "      <th>Wisconsin</th>\n",
       "      <th>Wyoming</th>\n",
       "    </tr>\n",
       "  </thead>\n",
       "  <tbody>\n",
       "    <tr>\n",
       "      <th>0</th>\n",
       "      <td>Population estimates, July 1, 2016,  (V2016)</td>\n",
       "      <td>4863300.0</td>\n",
       "      <td>741894.0</td>\n",
       "      <td>6931071.0</td>\n",
       "      <td>2988248.0</td>\n",
       "      <td>39250017.0</td>\n",
       "      <td>5540545.0</td>\n",
       "      <td>3576452.0</td>\n",
       "      <td>952065.0</td>\n",
       "      <td>20612439.0</td>\n",
       "      <td>...</td>\n",
       "      <td>865454.000</td>\n",
       "      <td>6651194.000</td>\n",
       "      <td>27862596.0</td>\n",
       "      <td>3051217.0</td>\n",
       "      <td>624594.0</td>\n",
       "      <td>8411808.0</td>\n",
       "      <td>7288000.0</td>\n",
       "      <td>1831102.0</td>\n",
       "      <td>5778708.0</td>\n",
       "      <td>585501.0</td>\n",
       "    </tr>\n",
       "    <tr>\n",
       "      <th>1</th>\n",
       "      <td>Population estimates base, April 1, 2010,  (V2...</td>\n",
       "      <td>4780131.0</td>\n",
       "      <td>710249.0</td>\n",
       "      <td>6392301.0</td>\n",
       "      <td>2916025.0</td>\n",
       "      <td>37254522.0</td>\n",
       "      <td>5029324.0</td>\n",
       "      <td>3574114.0</td>\n",
       "      <td>897936.0</td>\n",
       "      <td>18804592.0</td>\n",
       "      <td>...</td>\n",
       "      <td>814195.000</td>\n",
       "      <td>6346298.000</td>\n",
       "      <td>25146100.0</td>\n",
       "      <td>2763888.0</td>\n",
       "      <td>625741.0</td>\n",
       "      <td>8001041.0</td>\n",
       "      <td>6724545.0</td>\n",
       "      <td>1853011.0</td>\n",
       "      <td>5687289.0</td>\n",
       "      <td>563767.0</td>\n",
       "    </tr>\n",
       "    <tr>\n",
       "      <th>2</th>\n",
       "      <td>Population, percent change - April 1, 2010 (es...</td>\n",
       "      <td>1.7</td>\n",
       "      <td>4.5</td>\n",
       "      <td>8.4</td>\n",
       "      <td>2.5</td>\n",
       "      <td>5.4</td>\n",
       "      <td>10.2</td>\n",
       "      <td>0.1</td>\n",
       "      <td>6.0</td>\n",
       "      <td>9.6</td>\n",
       "      <td>...</td>\n",
       "      <td>0.063</td>\n",
       "      <td>0.048</td>\n",
       "      <td>10.8</td>\n",
       "      <td>10.4</td>\n",
       "      <td>-0.2</td>\n",
       "      <td>5.1</td>\n",
       "      <td>8.4</td>\n",
       "      <td>-1.2</td>\n",
       "      <td>1.6</td>\n",
       "      <td>3.9</td>\n",
       "    </tr>\n",
       "    <tr>\n",
       "      <th>3</th>\n",
       "      <td>Population, Census, April 1, 2010</td>\n",
       "      <td>4779736.0</td>\n",
       "      <td>710231.0</td>\n",
       "      <td>6392017.0</td>\n",
       "      <td>2915918.0</td>\n",
       "      <td>37253956.0</td>\n",
       "      <td>5029196.0</td>\n",
       "      <td>3574097.0</td>\n",
       "      <td>897934.0</td>\n",
       "      <td>18801310.0</td>\n",
       "      <td>...</td>\n",
       "      <td>814180.000</td>\n",
       "      <td>6346105.000</td>\n",
       "      <td>25145561.0</td>\n",
       "      <td>2763885.0</td>\n",
       "      <td>625741.0</td>\n",
       "      <td>8001024.0</td>\n",
       "      <td>6724540.0</td>\n",
       "      <td>1852994.0</td>\n",
       "      <td>5686986.0</td>\n",
       "      <td>563626.0</td>\n",
       "    </tr>\n",
       "    <tr>\n",
       "      <th>4</th>\n",
       "      <td>Persons under 5 years, percent, July 1, 2016, ...</td>\n",
       "      <td>6.0</td>\n",
       "      <td>7.3</td>\n",
       "      <td>6.3</td>\n",
       "      <td>6.4</td>\n",
       "      <td>6.3</td>\n",
       "      <td>6.1</td>\n",
       "      <td>5.2</td>\n",
       "      <td>5.8</td>\n",
       "      <td>5.5</td>\n",
       "      <td>...</td>\n",
       "      <td>0.071</td>\n",
       "      <td>0.061</td>\n",
       "      <td>7.2</td>\n",
       "      <td>8.3</td>\n",
       "      <td>4.9</td>\n",
       "      <td>6.1</td>\n",
       "      <td>6.2</td>\n",
       "      <td>5.5</td>\n",
       "      <td>5.8</td>\n",
       "      <td>6.5</td>\n",
       "    </tr>\n",
       "  </tbody>\n",
       "</table>\n",
       "<p>5 rows × 51 columns</p>\n",
       "</div>"
      ],
      "text/plain": [
       "                                                Fact    Alabama    Alaska  \\\n",
       "0       Population estimates, July 1, 2016,  (V2016)  4863300.0  741894.0   \n",
       "1  Population estimates base, April 1, 2010,  (V2...  4780131.0  710249.0   \n",
       "2  Population, percent change - April 1, 2010 (es...        1.7       4.5   \n",
       "3                  Population, Census, April 1, 2010  4779736.0  710231.0   \n",
       "4  Persons under 5 years, percent, July 1, 2016, ...        6.0       7.3   \n",
       "\n",
       "     Arizona   Arkansas  California   Colorado  Connecticut  Delaware  \\\n",
       "0  6931071.0  2988248.0  39250017.0  5540545.0    3576452.0  952065.0   \n",
       "1  6392301.0  2916025.0  37254522.0  5029324.0    3574114.0  897936.0   \n",
       "2        8.4        2.5         5.4       10.2          0.1       6.0   \n",
       "3  6392017.0  2915918.0  37253956.0  5029196.0    3574097.0  897934.0   \n",
       "4        6.3        6.4         6.3        6.1          5.2       5.8   \n",
       "\n",
       "      Florida    ...     South Dakota    Tennessee       Texas       Utah  \\\n",
       "0  20612439.0    ...       865454.000  6651194.000  27862596.0  3051217.0   \n",
       "1  18804592.0    ...       814195.000  6346298.000  25146100.0  2763888.0   \n",
       "2         9.6    ...            0.063        0.048        10.8       10.4   \n",
       "3  18801310.0    ...       814180.000  6346105.000  25145561.0  2763885.0   \n",
       "4         5.5    ...            0.071        0.061         7.2        8.3   \n",
       "\n",
       "    Vermont   Virginia  Washington  West Virginia  Wisconsin   Wyoming  \n",
       "0  624594.0  8411808.0   7288000.0      1831102.0  5778708.0  585501.0  \n",
       "1  625741.0  8001041.0   6724545.0      1853011.0  5687289.0  563767.0  \n",
       "2      -0.2        5.1         8.4           -1.2        1.6       3.9  \n",
       "3  625741.0  8001024.0   6724540.0      1852994.0  5686986.0  563626.0  \n",
       "4       4.9        6.1         6.2            5.5        5.8       6.5  \n",
       "\n",
       "[5 rows x 51 columns]"
      ]
     },
     "execution_count": 33,
     "metadata": {},
     "output_type": "execute_result"
    }
   ],
   "source": [
    "df1 = df1.drop(columns = ['Fact Note']) #Drop the Fact Note column since it contains no useful information for analysis\n",
    "df1 = df1[:64] #drop all the footnote and keep only the useful data with numbers\n",
    "df1 = df1.replace({'Z':'0','D':'0','FN':'0'}) #Replace all Z,D and FN with 0 based on the footnote definition\n",
    "\n",
    "states = ['Alabama','Alaska','Arizona','Arkansas','California','Colorado','Connecticut','Delaware','Florida',\\\n",
    "       'Georgia','Hawaii','Idaho','Illinois','Indiana','Iowa','Kansas','Kentucky','Louisiana','Maine','Maryland',\\\n",
    "       'Massachusetts','Michigan','Minnesota','Mississippi','Missouri','Montana','Nebraska','Nevada','New Hampshire','New Jersey',\\\n",
    "       'New Mexico','New York','North Carolina','North Dakota','Ohio','Oklahoma','Oregon','Pennsylvania','Rhode Island',\\\n",
    "       'South Carolina','South Dakota','Tennessee','Texas','Utah','Vermont','Virginia','Washington','West Virginia','Wisconsin','Wyoming']\n",
    "\n",
    "#remove all ',' '%' and '$' and convert the data type from string to float\n",
    "for state in states:\n",
    "    df1[state] = df1[state].astype(str).replace({'\\$': '', ',': '','%':''}, regex=True).astype('float64')\n",
    "\n",
    "#show the new us_census_data after the wranglin\n",
    "df1.head(5) \n",
    "\n",
    "\n"
   ]
  },
  {
   "cell_type": "code",
   "execution_count": 4,
   "metadata": {
    "nbpresent": {
     "id": "c7d9e4b9-a2f2-4d64-aeb5-2e5cd7682ea9"
    },
    "scrolled": false
   },
   "outputs": [
    {
     "name": "stdout",
     "output_type": "stream",
     "text": [
      "<class 'pandas.core.frame.DataFrame'>\n",
      "RangeIndex: 64 entries, 0 to 63\n",
      "Data columns (total 51 columns):\n",
      "Fact              64 non-null object\n",
      "Alabama           64 non-null float64\n",
      "Alaska            64 non-null float64\n",
      "Arizona           64 non-null float64\n",
      "Arkansas          64 non-null float64\n",
      "California        64 non-null float64\n",
      "Colorado          64 non-null float64\n",
      "Connecticut       64 non-null float64\n",
      "Delaware          64 non-null float64\n",
      "Florida           64 non-null float64\n",
      "Georgia           64 non-null float64\n",
      "Hawaii            64 non-null float64\n",
      "Idaho             64 non-null float64\n",
      "Illinois          64 non-null float64\n",
      "Indiana           64 non-null float64\n",
      "Iowa              64 non-null float64\n",
      "Kansas            64 non-null float64\n",
      "Kentucky          64 non-null float64\n",
      "Louisiana         64 non-null float64\n",
      "Maine             64 non-null float64\n",
      "Maryland          64 non-null float64\n",
      "Massachusetts     64 non-null float64\n",
      "Michigan          64 non-null float64\n",
      "Minnesota         64 non-null float64\n",
      "Mississippi       64 non-null float64\n",
      "Missouri          64 non-null float64\n",
      "Montana           64 non-null float64\n",
      "Nebraska          64 non-null float64\n",
      "Nevada            64 non-null float64\n",
      "New Hampshire     64 non-null float64\n",
      "New Jersey        64 non-null float64\n",
      "New Mexico        64 non-null float64\n",
      "New York          64 non-null float64\n",
      "North Carolina    64 non-null float64\n",
      "North Dakota      64 non-null float64\n",
      "Ohio              64 non-null float64\n",
      "Oklahoma          64 non-null float64\n",
      "Oregon            64 non-null float64\n",
      "Pennsylvania      64 non-null float64\n",
      "Rhode Island      64 non-null float64\n",
      "South Carolina    64 non-null float64\n",
      "South Dakota      64 non-null float64\n",
      "Tennessee         64 non-null float64\n",
      "Texas             64 non-null float64\n",
      "Utah              64 non-null float64\n",
      "Vermont           64 non-null float64\n",
      "Virginia          64 non-null float64\n",
      "Washington        64 non-null float64\n",
      "West Virginia     64 non-null float64\n",
      "Wisconsin         64 non-null float64\n",
      "Wyoming           64 non-null float64\n",
      "dtypes: float64(50), object(1)\n",
      "memory usage: 25.6+ KB\n"
     ]
    }
   ],
   "source": [
    "df1.info() #show the information of the of modified dataframe1"
   ]
  },
  {
   "cell_type": "code",
   "execution_count": 5,
   "metadata": {
    "nbpresent": {
     "id": "9d89317f-b858-4c02-bfeb-34b0d3711278"
    }
   },
   "outputs": [
    {
     "data": {
      "text/html": [
       "<div>\n",
       "<style scoped>\n",
       "    .dataframe tbody tr th:only-of-type {\n",
       "        vertical-align: middle;\n",
       "    }\n",
       "\n",
       "    .dataframe tbody tr th {\n",
       "        vertical-align: top;\n",
       "    }\n",
       "\n",
       "    .dataframe thead th {\n",
       "        text-align: right;\n",
       "    }\n",
       "</style>\n",
       "<table border=\"1\" class=\"dataframe\">\n",
       "  <thead>\n",
       "    <tr style=\"text-align: right;\">\n",
       "      <th></th>\n",
       "      <th>month</th>\n",
       "      <th>state</th>\n",
       "      <th>permit</th>\n",
       "      <th>permit_recheck</th>\n",
       "      <th>handgun</th>\n",
       "      <th>long_gun</th>\n",
       "      <th>other</th>\n",
       "      <th>multiple</th>\n",
       "      <th>admin</th>\n",
       "      <th>prepawn_handgun</th>\n",
       "      <th>...</th>\n",
       "      <th>returned_other</th>\n",
       "      <th>rentals_handgun</th>\n",
       "      <th>rentals_long_gun</th>\n",
       "      <th>private_sale_handgun</th>\n",
       "      <th>private_sale_long_gun</th>\n",
       "      <th>private_sale_other</th>\n",
       "      <th>return_to_seller_handgun</th>\n",
       "      <th>return_to_seller_long_gun</th>\n",
       "      <th>return_to_seller_other</th>\n",
       "      <th>totals</th>\n",
       "    </tr>\n",
       "  </thead>\n",
       "  <tbody>\n",
       "    <tr>\n",
       "      <th>0</th>\n",
       "      <td>2017-09</td>\n",
       "      <td>Alabama</td>\n",
       "      <td>16717.0</td>\n",
       "      <td>0.0</td>\n",
       "      <td>5734.0</td>\n",
       "      <td>6320.0</td>\n",
       "      <td>221.0</td>\n",
       "      <td>317</td>\n",
       "      <td>0.0</td>\n",
       "      <td>15.0</td>\n",
       "      <td>...</td>\n",
       "      <td>0.0</td>\n",
       "      <td>0.0</td>\n",
       "      <td>0.0</td>\n",
       "      <td>9.0</td>\n",
       "      <td>16.0</td>\n",
       "      <td>3.0</td>\n",
       "      <td>0.0</td>\n",
       "      <td>0.0</td>\n",
       "      <td>3.0</td>\n",
       "      <td>32019</td>\n",
       "    </tr>\n",
       "    <tr>\n",
       "      <th>1</th>\n",
       "      <td>2017-09</td>\n",
       "      <td>Alaska</td>\n",
       "      <td>209.0</td>\n",
       "      <td>2.0</td>\n",
       "      <td>2320.0</td>\n",
       "      <td>2930.0</td>\n",
       "      <td>219.0</td>\n",
       "      <td>160</td>\n",
       "      <td>0.0</td>\n",
       "      <td>5.0</td>\n",
       "      <td>...</td>\n",
       "      <td>0.0</td>\n",
       "      <td>0.0</td>\n",
       "      <td>0.0</td>\n",
       "      <td>17.0</td>\n",
       "      <td>24.0</td>\n",
       "      <td>1.0</td>\n",
       "      <td>0.0</td>\n",
       "      <td>0.0</td>\n",
       "      <td>0.0</td>\n",
       "      <td>6303</td>\n",
       "    </tr>\n",
       "    <tr>\n",
       "      <th>2</th>\n",
       "      <td>2017-09</td>\n",
       "      <td>Arizona</td>\n",
       "      <td>5069.0</td>\n",
       "      <td>382.0</td>\n",
       "      <td>11063.0</td>\n",
       "      <td>7946.0</td>\n",
       "      <td>920.0</td>\n",
       "      <td>631</td>\n",
       "      <td>0.0</td>\n",
       "      <td>13.0</td>\n",
       "      <td>...</td>\n",
       "      <td>0.0</td>\n",
       "      <td>0.0</td>\n",
       "      <td>0.0</td>\n",
       "      <td>38.0</td>\n",
       "      <td>12.0</td>\n",
       "      <td>2.0</td>\n",
       "      <td>0.0</td>\n",
       "      <td>0.0</td>\n",
       "      <td>0.0</td>\n",
       "      <td>28394</td>\n",
       "    </tr>\n",
       "    <tr>\n",
       "      <th>3</th>\n",
       "      <td>2017-09</td>\n",
       "      <td>Arkansas</td>\n",
       "      <td>2935.0</td>\n",
       "      <td>632.0</td>\n",
       "      <td>4347.0</td>\n",
       "      <td>6063.0</td>\n",
       "      <td>165.0</td>\n",
       "      <td>366</td>\n",
       "      <td>51.0</td>\n",
       "      <td>12.0</td>\n",
       "      <td>...</td>\n",
       "      <td>0.0</td>\n",
       "      <td>0.0</td>\n",
       "      <td>0.0</td>\n",
       "      <td>13.0</td>\n",
       "      <td>23.0</td>\n",
       "      <td>0.0</td>\n",
       "      <td>0.0</td>\n",
       "      <td>2.0</td>\n",
       "      <td>1.0</td>\n",
       "      <td>17747</td>\n",
       "    </tr>\n",
       "    <tr>\n",
       "      <th>4</th>\n",
       "      <td>2017-09</td>\n",
       "      <td>California</td>\n",
       "      <td>57839.0</td>\n",
       "      <td>0.0</td>\n",
       "      <td>37165.0</td>\n",
       "      <td>24581.0</td>\n",
       "      <td>2984.0</td>\n",
       "      <td>0</td>\n",
       "      <td>0.0</td>\n",
       "      <td>0.0</td>\n",
       "      <td>...</td>\n",
       "      <td>0.0</td>\n",
       "      <td>0.0</td>\n",
       "      <td>0.0</td>\n",
       "      <td>0.0</td>\n",
       "      <td>0.0</td>\n",
       "      <td>0.0</td>\n",
       "      <td>0.0</td>\n",
       "      <td>0.0</td>\n",
       "      <td>0.0</td>\n",
       "      <td>123506</td>\n",
       "    </tr>\n",
       "  </tbody>\n",
       "</table>\n",
       "<p>5 rows × 27 columns</p>\n",
       "</div>"
      ],
      "text/plain": [
       "     month       state   permit  permit_recheck  handgun  long_gun   other  \\\n",
       "0  2017-09     Alabama  16717.0             0.0   5734.0    6320.0   221.0   \n",
       "1  2017-09      Alaska    209.0             2.0   2320.0    2930.0   219.0   \n",
       "2  2017-09     Arizona   5069.0           382.0  11063.0    7946.0   920.0   \n",
       "3  2017-09    Arkansas   2935.0           632.0   4347.0    6063.0   165.0   \n",
       "4  2017-09  California  57839.0             0.0  37165.0   24581.0  2984.0   \n",
       "\n",
       "   multiple  admin  prepawn_handgun   ...    returned_other  rentals_handgun  \\\n",
       "0       317    0.0             15.0   ...               0.0              0.0   \n",
       "1       160    0.0              5.0   ...               0.0              0.0   \n",
       "2       631    0.0             13.0   ...               0.0              0.0   \n",
       "3       366   51.0             12.0   ...               0.0              0.0   \n",
       "4         0    0.0              0.0   ...               0.0              0.0   \n",
       "\n",
       "   rentals_long_gun  private_sale_handgun  private_sale_long_gun  \\\n",
       "0               0.0                   9.0                   16.0   \n",
       "1               0.0                  17.0                   24.0   \n",
       "2               0.0                  38.0                   12.0   \n",
       "3               0.0                  13.0                   23.0   \n",
       "4               0.0                   0.0                    0.0   \n",
       "\n",
       "   private_sale_other  return_to_seller_handgun  return_to_seller_long_gun  \\\n",
       "0                 3.0                       0.0                        0.0   \n",
       "1                 1.0                       0.0                        0.0   \n",
       "2                 2.0                       0.0                        0.0   \n",
       "3                 0.0                       0.0                        2.0   \n",
       "4                 0.0                       0.0                        0.0   \n",
       "\n",
       "   return_to_seller_other  totals  \n",
       "0                     3.0   32019  \n",
       "1                     0.0    6303  \n",
       "2                     0.0   28394  \n",
       "3                     1.0   17747  \n",
       "4                     0.0  123506  \n",
       "\n",
       "[5 rows x 27 columns]"
      ]
     },
     "execution_count": 5,
     "metadata": {},
     "output_type": "execute_result"
    }
   ],
   "source": [
    "df2 = pd.read_csv('gun_data.csv') #read the original gun_data.csv \n",
    "df2.head()"
   ]
  },
  {
   "cell_type": "code",
   "execution_count": 6,
   "metadata": {
    "nbpresent": {
     "id": "9830e85a-7c43-4fc8-b2d2-5dd3f7920681"
    }
   },
   "outputs": [
    {
     "name": "stdout",
     "output_type": "stream",
     "text": [
      "<class 'pandas.core.frame.DataFrame'>\n",
      "RangeIndex: 12485 entries, 0 to 12484\n",
      "Data columns (total 27 columns):\n",
      "month                        12485 non-null object\n",
      "state                        12485 non-null object\n",
      "permit                       12461 non-null float64\n",
      "permit_recheck               1100 non-null float64\n",
      "handgun                      12465 non-null float64\n",
      "long_gun                     12466 non-null float64\n",
      "other                        5500 non-null float64\n",
      "multiple                     12485 non-null int64\n",
      "admin                        12462 non-null float64\n",
      "prepawn_handgun              10542 non-null float64\n",
      "prepawn_long_gun             10540 non-null float64\n",
      "prepawn_other                5115 non-null float64\n",
      "redemption_handgun           10545 non-null float64\n",
      "redemption_long_gun          10544 non-null float64\n",
      "redemption_other             5115 non-null float64\n",
      "returned_handgun             2200 non-null float64\n",
      "returned_long_gun            2145 non-null float64\n",
      "returned_other               1815 non-null float64\n",
      "rentals_handgun              990 non-null float64\n",
      "rentals_long_gun             825 non-null float64\n",
      "private_sale_handgun         2750 non-null float64\n",
      "private_sale_long_gun        2750 non-null float64\n",
      "private_sale_other           2750 non-null float64\n",
      "return_to_seller_handgun     2475 non-null float64\n",
      "return_to_seller_long_gun    2750 non-null float64\n",
      "return_to_seller_other       2255 non-null float64\n",
      "totals                       12485 non-null int64\n",
      "dtypes: float64(23), int64(2), object(2)\n",
      "memory usage: 2.6+ MB\n"
     ]
    }
   ],
   "source": [
    "df2.info() #show info of the orginal file"
   ]
  },
  {
   "cell_type": "code",
   "execution_count": 7,
   "metadata": {
    "nbpresent": {
     "id": "4049f8c4-5617-4264-a735-ac2607ec7461"
    }
   },
   "outputs": [
    {
     "data": {
      "text/html": [
       "<div>\n",
       "<style scoped>\n",
       "    .dataframe tbody tr th:only-of-type {\n",
       "        vertical-align: middle;\n",
       "    }\n",
       "\n",
       "    .dataframe tbody tr th {\n",
       "        vertical-align: top;\n",
       "    }\n",
       "\n",
       "    .dataframe thead th {\n",
       "        text-align: right;\n",
       "    }\n",
       "</style>\n",
       "<table border=\"1\" class=\"dataframe\">\n",
       "  <thead>\n",
       "    <tr style=\"text-align: right;\">\n",
       "      <th></th>\n",
       "      <th>month</th>\n",
       "      <th>state</th>\n",
       "      <th>permit</th>\n",
       "      <th>permit_recheck</th>\n",
       "      <th>handgun</th>\n",
       "      <th>long_gun</th>\n",
       "      <th>other</th>\n",
       "      <th>multiple</th>\n",
       "      <th>admin</th>\n",
       "      <th>prepawn_handgun</th>\n",
       "      <th>...</th>\n",
       "      <th>returned_other</th>\n",
       "      <th>rentals_handgun</th>\n",
       "      <th>rentals_long_gun</th>\n",
       "      <th>private_sale_handgun</th>\n",
       "      <th>private_sale_long_gun</th>\n",
       "      <th>private_sale_other</th>\n",
       "      <th>return_to_seller_handgun</th>\n",
       "      <th>return_to_seller_long_gun</th>\n",
       "      <th>return_to_seller_other</th>\n",
       "      <th>totals</th>\n",
       "    </tr>\n",
       "  </thead>\n",
       "  <tbody>\n",
       "    <tr>\n",
       "      <th>0</th>\n",
       "      <td>2017-09-01</td>\n",
       "      <td>Alabama</td>\n",
       "      <td>16717.0</td>\n",
       "      <td>0.0</td>\n",
       "      <td>5734.0</td>\n",
       "      <td>6320.0</td>\n",
       "      <td>221.0</td>\n",
       "      <td>317</td>\n",
       "      <td>0.0</td>\n",
       "      <td>15.0</td>\n",
       "      <td>...</td>\n",
       "      <td>0.0</td>\n",
       "      <td>0.0</td>\n",
       "      <td>0.0</td>\n",
       "      <td>9.0</td>\n",
       "      <td>16.0</td>\n",
       "      <td>3.0</td>\n",
       "      <td>0.0</td>\n",
       "      <td>0.0</td>\n",
       "      <td>3.0</td>\n",
       "      <td>32019</td>\n",
       "    </tr>\n",
       "    <tr>\n",
       "      <th>1</th>\n",
       "      <td>2017-09-01</td>\n",
       "      <td>Alaska</td>\n",
       "      <td>209.0</td>\n",
       "      <td>2.0</td>\n",
       "      <td>2320.0</td>\n",
       "      <td>2930.0</td>\n",
       "      <td>219.0</td>\n",
       "      <td>160</td>\n",
       "      <td>0.0</td>\n",
       "      <td>5.0</td>\n",
       "      <td>...</td>\n",
       "      <td>0.0</td>\n",
       "      <td>0.0</td>\n",
       "      <td>0.0</td>\n",
       "      <td>17.0</td>\n",
       "      <td>24.0</td>\n",
       "      <td>1.0</td>\n",
       "      <td>0.0</td>\n",
       "      <td>0.0</td>\n",
       "      <td>0.0</td>\n",
       "      <td>6303</td>\n",
       "    </tr>\n",
       "    <tr>\n",
       "      <th>2</th>\n",
       "      <td>2017-09-01</td>\n",
       "      <td>Arizona</td>\n",
       "      <td>5069.0</td>\n",
       "      <td>382.0</td>\n",
       "      <td>11063.0</td>\n",
       "      <td>7946.0</td>\n",
       "      <td>920.0</td>\n",
       "      <td>631</td>\n",
       "      <td>0.0</td>\n",
       "      <td>13.0</td>\n",
       "      <td>...</td>\n",
       "      <td>0.0</td>\n",
       "      <td>0.0</td>\n",
       "      <td>0.0</td>\n",
       "      <td>38.0</td>\n",
       "      <td>12.0</td>\n",
       "      <td>2.0</td>\n",
       "      <td>0.0</td>\n",
       "      <td>0.0</td>\n",
       "      <td>0.0</td>\n",
       "      <td>28394</td>\n",
       "    </tr>\n",
       "    <tr>\n",
       "      <th>3</th>\n",
       "      <td>2017-09-01</td>\n",
       "      <td>Arkansas</td>\n",
       "      <td>2935.0</td>\n",
       "      <td>632.0</td>\n",
       "      <td>4347.0</td>\n",
       "      <td>6063.0</td>\n",
       "      <td>165.0</td>\n",
       "      <td>366</td>\n",
       "      <td>51.0</td>\n",
       "      <td>12.0</td>\n",
       "      <td>...</td>\n",
       "      <td>0.0</td>\n",
       "      <td>0.0</td>\n",
       "      <td>0.0</td>\n",
       "      <td>13.0</td>\n",
       "      <td>23.0</td>\n",
       "      <td>0.0</td>\n",
       "      <td>0.0</td>\n",
       "      <td>2.0</td>\n",
       "      <td>1.0</td>\n",
       "      <td>17747</td>\n",
       "    </tr>\n",
       "    <tr>\n",
       "      <th>4</th>\n",
       "      <td>2017-09-01</td>\n",
       "      <td>California</td>\n",
       "      <td>57839.0</td>\n",
       "      <td>0.0</td>\n",
       "      <td>37165.0</td>\n",
       "      <td>24581.0</td>\n",
       "      <td>2984.0</td>\n",
       "      <td>0</td>\n",
       "      <td>0.0</td>\n",
       "      <td>0.0</td>\n",
       "      <td>...</td>\n",
       "      <td>0.0</td>\n",
       "      <td>0.0</td>\n",
       "      <td>0.0</td>\n",
       "      <td>0.0</td>\n",
       "      <td>0.0</td>\n",
       "      <td>0.0</td>\n",
       "      <td>0.0</td>\n",
       "      <td>0.0</td>\n",
       "      <td>0.0</td>\n",
       "      <td>123506</td>\n",
       "    </tr>\n",
       "  </tbody>\n",
       "</table>\n",
       "<p>5 rows × 27 columns</p>\n",
       "</div>"
      ],
      "text/plain": [
       "       month       state   permit  permit_recheck  handgun  long_gun   other  \\\n",
       "0 2017-09-01     Alabama  16717.0             0.0   5734.0    6320.0   221.0   \n",
       "1 2017-09-01      Alaska    209.0             2.0   2320.0    2930.0   219.0   \n",
       "2 2017-09-01     Arizona   5069.0           382.0  11063.0    7946.0   920.0   \n",
       "3 2017-09-01    Arkansas   2935.0           632.0   4347.0    6063.0   165.0   \n",
       "4 2017-09-01  California  57839.0             0.0  37165.0   24581.0  2984.0   \n",
       "\n",
       "   multiple  admin  prepawn_handgun   ...    returned_other  rentals_handgun  \\\n",
       "0       317    0.0             15.0   ...               0.0              0.0   \n",
       "1       160    0.0              5.0   ...               0.0              0.0   \n",
       "2       631    0.0             13.0   ...               0.0              0.0   \n",
       "3       366   51.0             12.0   ...               0.0              0.0   \n",
       "4         0    0.0              0.0   ...               0.0              0.0   \n",
       "\n",
       "   rentals_long_gun  private_sale_handgun  private_sale_long_gun  \\\n",
       "0               0.0                   9.0                   16.0   \n",
       "1               0.0                  17.0                   24.0   \n",
       "2               0.0                  38.0                   12.0   \n",
       "3               0.0                  13.0                   23.0   \n",
       "4               0.0                   0.0                    0.0   \n",
       "\n",
       "   private_sale_other  return_to_seller_handgun  return_to_seller_long_gun  \\\n",
       "0                 3.0                       0.0                        0.0   \n",
       "1                 1.0                       0.0                        0.0   \n",
       "2                 2.0                       0.0                        0.0   \n",
       "3                 0.0                       0.0                        2.0   \n",
       "4                 0.0                       0.0                        0.0   \n",
       "\n",
       "   return_to_seller_other  totals  \n",
       "0                     3.0   32019  \n",
       "1                     0.0    6303  \n",
       "2                     0.0   28394  \n",
       "3                     1.0   17747  \n",
       "4                     0.0  123506  \n",
       "\n",
       "[5 rows x 27 columns]"
      ]
     },
     "execution_count": 7,
     "metadata": {},
     "output_type": "execute_result"
    }
   ],
   "source": [
    "df2 = df2.fillna(0) #fill NaN in the dataframe with 0\n",
    "\n",
    "#convert all numbers to float data type\n",
    "df2[['permit','permit_recheck','handgun','long_gun','other','multiple','admin','prepawn_handgun','prepawn_long_gun',\\\n",
    "     'prepawn_other','redemption_handgun','redemption_long_gun','redemption_other','returned_handgun',\\\n",
    "     'returned_long_gun','returned_other','rentals_handgun','rentals_long_gun','private_sale_handgun',\\\n",
    "     'private_sale_long_gun','private_sale_other','return_to_seller_handgun','return_to_seller_long_gun',\\\n",
    "     'return_to_seller_other','totals']].astype(float, inplace = True)\n",
    "\n",
    "# convert the month column to datetime format\n",
    "df2['month'] = pd.to_datetime(df2['month'])\n",
    "\n",
    "# show first 5 columns of modified gun_data.csv\n",
    "df2.head() \n"
   ]
  },
  {
   "cell_type": "code",
   "execution_count": 8,
   "metadata": {
    "nbpresent": {
     "id": "36e88d2a-ed7a-4016-abfa-c0d7c037ed8e"
    },
    "scrolled": true
   },
   "outputs": [
    {
     "name": "stdout",
     "output_type": "stream",
     "text": [
      "<class 'pandas.core.frame.DataFrame'>\n",
      "RangeIndex: 12485 entries, 0 to 12484\n",
      "Data columns (total 27 columns):\n",
      "month                        12485 non-null datetime64[ns]\n",
      "state                        12485 non-null object\n",
      "permit                       12485 non-null float64\n",
      "permit_recheck               12485 non-null float64\n",
      "handgun                      12485 non-null float64\n",
      "long_gun                     12485 non-null float64\n",
      "other                        12485 non-null float64\n",
      "multiple                     12485 non-null int64\n",
      "admin                        12485 non-null float64\n",
      "prepawn_handgun              12485 non-null float64\n",
      "prepawn_long_gun             12485 non-null float64\n",
      "prepawn_other                12485 non-null float64\n",
      "redemption_handgun           12485 non-null float64\n",
      "redemption_long_gun          12485 non-null float64\n",
      "redemption_other             12485 non-null float64\n",
      "returned_handgun             12485 non-null float64\n",
      "returned_long_gun            12485 non-null float64\n",
      "returned_other               12485 non-null float64\n",
      "rentals_handgun              12485 non-null float64\n",
      "rentals_long_gun             12485 non-null float64\n",
      "private_sale_handgun         12485 non-null float64\n",
      "private_sale_long_gun        12485 non-null float64\n",
      "private_sale_other           12485 non-null float64\n",
      "return_to_seller_handgun     12485 non-null float64\n",
      "return_to_seller_long_gun    12485 non-null float64\n",
      "return_to_seller_other       12485 non-null float64\n",
      "totals                       12485 non-null int64\n",
      "dtypes: datetime64[ns](1), float64(23), int64(2), object(1)\n",
      "memory usage: 2.6+ MB\n"
     ]
    }
   ],
   "source": [
    "df2.info() #showing the information of the modified datafame2"
   ]
  },
  {
   "cell_type": "markdown",
   "metadata": {
    "nbpresent": {
     "id": "8f1a73d4-19f5-4b82-bdf7-fd2625fdc8db"
    }
   },
   "source": [
    "<a id = 'exploratory_data_analysis'></a>\n",
    "## Exploratory Data Analysis"
   ]
  },
  {
   "cell_type": "markdown",
   "metadata": {
    "nbpresent": {
     "id": "bdd0f76d-1667-4051-b3b4-025328fc02b1"
    }
   },
   "source": [
    "### 1. Gun per capita of different states"
   ]
  },
  {
   "cell_type": "markdown",
   "metadata": {
    "nbpresent": {
     "id": "2dc66a97-8123-4847-ae9b-4859b82ebfec"
    }
   },
   "source": [
    "#### 1.1 Population for different states (Year 2010)"
   ]
  },
  {
   "cell_type": "code",
   "execution_count": 9,
   "metadata": {
    "nbpresent": {
     "id": "f0d668d0-dc39-4dd3-9ba6-19090d589bbb"
    }
   },
   "outputs": [
    {
     "data": {
      "text/plain": [
       "[Text(0,0.5,'Population'), Text(0.5,0,'States')]"
      ]
     },
     "execution_count": 9,
     "metadata": {},
     "output_type": "execute_result"
    },
    {
     "data": {
      "image/png": "[encoded data removed]",
      "text/plain": [
       "<Figure size 1440x720 with 1 Axes>"
      ]
     },
     "metadata": {},
     "output_type": "display_data"
    }
   ],
   "source": [
    "df1_popu_y2010 = df1.iloc[3,1:] # select the info of population census at year 2010 for different states\n",
    "\n",
    "#plot the population of different states\n",
    "df1_popu_y2010.plot.bar(figsize = (20,10), colormap = 'Blues_r',grid = True, \\\n",
    "                        title = 'Population, Census, April 1, 2010').set(xlabel = 'States', ylabel = 'Population')"
   ]
  },
  {
   "cell_type": "markdown",
   "metadata": {
    "nbpresent": {
     "id": "4f8e4268-d9eb-487e-9cfb-ca35c9694de9"
    }
   },
   "source": [
    "#### 1.2  Total permits of different states (Year 2010)"
   ]
  },
  {
   "cell_type": "code",
   "execution_count": 10,
   "metadata": {
    "nbpresent": {
     "id": "30cc6f99-93d8-4eb3-b20d-c26c4e619d0b"
    }
   },
   "outputs": [
    {
     "data": {
      "text/plain": [
       "[Text(0,0.5,'Total Permits')]"
      ]
     },
     "execution_count": 10,
     "metadata": {},
     "output_type": "execute_result"
    },
    {
     "data": {
      "image/png": "[encoded data removed]",
      "text/plain": [
       "<Figure size 1440x720 with 1 Axes>"
      ]
     },
     "metadata": {},
     "output_type": "display_data"
    }
   ],
   "source": [
    "df2['year'] = df2['month'].dt.year #create a new column stores the information of year for each row\n",
    "df2_gun_y2010 = df2.loc[df2['year'] == 2010] #select rows with year 2010\n",
    "df2_gun_y2010 = df2_gun_y2010.groupby(df2_gun_y2010['state'])['totals'].sum() #calculate the sum of totals for all months and \\\n",
    "                                                                  #and group by the results based on states\n",
    "\n",
    "#plot the final result\n",
    "df2_gun_y2010.plot.bar(figsize = (20,10),title = 'Total permits of different states (Year 2010)',\\\n",
    "                       colormap = 'Blues_r').set(ylabel = 'Total Permits') \n"
   ]
  },
  {
   "cell_type": "markdown",
   "metadata": {
    "nbpresent": {
     "id": "694d635c-5d82-41bc-abe4-d2e40aeb385c"
    }
   },
   "source": [
    "#### 1.3 Gun per capita of different states"
   ]
  },
  {
   "cell_type": "code",
   "execution_count": 11,
   "metadata": {
    "nbpresent": {
     "id": "96579f36-533a-4f28-9945-87ff79db6d6b"
    }
   },
   "outputs": [
    {
     "data": {
      "text/plain": [
       "[Text(0,0.5,'Number of Gun permits per Person '), Text(0.5,0,'States')]"
      ]
     },
     "execution_count": 11,
     "metadata": {},
     "output_type": "execute_result"
    },
    {
     "data": {
      "image/png": "[encoded data removed]",
      "text/plain": [
       "<Figure size 1440x720 with 1 Axes>"
      ]
     },
     "metadata": {},
     "output_type": "display_data"
    }
   ],
   "source": [
    "df_gun_percapita_y2010 = (df2_gun_y2010/df1_popu_y2010).fillna(0) #calculate the per capita gun permit at different\n",
    "                                                                  #state\n",
    "# Plot the final result\n",
    "df_gun_percapita_y2010.plot.bar(figsize = (20,10), title = 'Gun per capita of different states', colormap = 'Blues_r')\\\n",
    ".set(xlabel = 'States', ylabel = 'Number of Gun permits per Person ')\n"
   ]
  },
  {
   "cell_type": "markdown",
   "metadata": {
    "nbpresent": {
     "id": "dbd796d2-7e94-4ff4-a569-24a2516ac1f8"
    }
   },
   "source": [
    "### 2. Change of total permits for United States and different states from 1999 - 2016"
   ]
  },
  {
   "cell_type": "markdown",
   "metadata": {
    "nbpresent": {
     "id": "047359fa-dcc1-41d3-a09c-65732295d01e"
    }
   },
   "source": [
    "#### 2.1 Change of total permits for United States from 1999 - 2016"
   ]
  },
  {
   "cell_type": "code",
   "execution_count": 18,
   "metadata": {
    "nbpresent": {
     "id": "05c1bb4c-2416-4c1c-bad5-eb4455a441a0"
    }
   },
   "outputs": [
    {
     "data": {
      "text/plain": [
       "<matplotlib.lines.Line2D at 0x1a194a85c0>"
      ]
     },
     "execution_count": 18,
     "metadata": {},
     "output_type": "execute_result"
    },
    {
     "data": {
      "image/png": "[encoded data removed]",
      "text/plain": [
       "<Figure size 1440x720 with 1 Axes>"
      ]
     },
     "metadata": {},
     "output_type": "display_data"
    }
   ],
   "source": [
    "df2_gun_1998_to_2017_allstates = df2.groupby(['year']).sum() # Calculate the all-state total for different years\n",
    "df2_gun_1998_to_2017_allstates.head() # show first few rows of the data\n",
    "df2_gun_1999_to_2016_allstates = df2_gun_1998_to_2017_allstates.iloc[1:-1] # pick only the data from 1999 to 2016\\\n",
    "                                                                           # since they contain all months\n",
    "\n",
    "national_avg_1999_to_2016 = df2_gun_1999_to_2016_allstates['totals'].mean() # this will calculate the national average\n",
    "\n",
    "#plot the final result\n",
    "df2_gun_1999_to_2016_allstates['totals'].plot.area(figsize = (20,10),title = 'Change of total permits for United\\\n",
    "States from 1999 - 2016\\nred line is national average').set(ylabel = 'Total Gun permits')\n",
    "#plot the national average line\n",
    "plt.axhline(y=national_avg_1999_to_2016, xmin=0, xmax=1, hold=None, color = 'red') "
   ]
  },
  {
   "cell_type": "markdown",
   "metadata": {
    "nbpresent": {
     "id": "8bf2b30b-095c-438b-a884-4de5c791b53a"
    }
   },
   "source": [
    "#### 2.2 Change of total permits for different states from 1999 - 2016"
   ]
  },
  {
   "cell_type": "code",
   "execution_count": 29,
   "metadata": {
    "nbpresent": {
     "id": "ffae9bec-c61d-489e-aeee-a0b96fb89fed"
    }
   },
   "outputs": [
    {
     "name": "stdout",
     "output_type": "stream",
     "text": [
      "7\n"
     ]
    },
    {
     "data": {
      "image/png": "[encoded data removed]",
      "text/plain": [
       "<Figure size 1440x1440 with 50 Axes>"
      ]
     },
     "metadata": {},
     "output_type": "display_data"
    }
   ],
   "source": [
    "df2_gun_1998_to_2017_single_states = df2.groupby(['state']) #group the df2 data by states\n",
    "\n",
    "fig, axes = plt.subplots(nrows=10, ncols=5)\n",
    "i = 0\n",
    "k = 0\n",
    "print(length(state))\n",
    "for state in states:\n",
    "    if k < 5:\n",
    "        df2_state_1999_to_2016 = df2_gun_1998_to_2017_single_states.get_group(state).groupby(['year']).sum()[1:-1]\n",
    "        df2_state_1999_to_2016['totals'].plot(ax=axes[i,k],figsize = (20,20),title = state)\n",
    "        k = k + 1\n",
    "    else:\n",
    "        i = i + 1\n",
    "        k == 0\n",
    "\n",
    "        \n",
    "\n",
    "        \n",
    "\n",
    "plt.tight_layout()\n"
   ]
  },
  {
   "cell_type": "markdown",
   "metadata": {
    "nbpresent": {
     "id": "741e8e58-426e-4bba-a351-57b99a2bb985"
    }
   },
   "source": [
    "<a id = 'conclusion'></a>\n",
    "## Coclusion"
   ]
  },
  {
   "cell_type": "code",
   "execution_count": null,
   "metadata": {
    "nbpresent": {
     "id": "1f315689-5bc6-4bc3-be78-4e94582b3bff"
    }
   },
   "outputs": [],
   "source": []
  }
 ],
 "metadata": {
  "kernelspec": {
   "display_name": "Python [default]",
   "language": "python",
   "name": "python3"
  },
  "language_info": {
   "codemirror_mode": {
    "name": "ipython",
    "version": 3
   },
   "file_extension": ".py",
   "mimetype": "text/x-python",
   "name": "python",
   "nbconvert_exporter": "python",
   "pygments_lexer": "ipython3",
   "version": "3.6.5"
  },
  "nbpresent": {
   "slides": {
    "14500208-0ab6-4070-b92f-06b33f05be40": {
     "id": "14500208-0ab6-4070-b92f-06b33f05be40",
     "prev": "9e277774-ec09-47be-b73f-ba003cf2409a",
     "regions": {
      "e69de202-f3ef-446e-875e-5978389213e9": {
       "attrs": {
        "height": 0.8,
        "width": 0.8,
        "x": 0.1,
        "y": 0.1
       },
       "content": {
        "cell": "694d635c-5d82-41bc-abe4-d2e40aeb385c",
        "part": "whole"
       },
       "id": "e69de202-f3ef-446e-875e-5978389213e9"
      }
     }
    },
    "18cc1202-82ce-4827-8821-af135d120572": {
     "id": "18cc1202-82ce-4827-8821-af135d120572",
     "prev": "f98b4d14-b38f-4f53-b5b5-fe1612ef5104",
     "regions": {
      "07d7b258-6e37-49aa-a6f3-bd90c93bda50": {
       "attrs": {
        "height": 0.8,
        "width": 0.8,
        "x": 0.1,
        "y": 0.1
       },
       "content": {
        "cell": "9d89317f-b858-4c02-bfeb-34b0d3711278",
        "part": "whole"
       },
       "id": "07d7b258-6e37-49aa-a6f3-bd90c93bda50"
      }
     }
    },
    "1ec14277-d289-473a-93da-4570ccc4ffe7": {
     "id": "1ec14277-d289-473a-93da-4570ccc4ffe7",
     "prev": "2d5fb7b7-3374-4ec7-b009-bf89120a1687",
     "regions": {
      "5dbc26cf-703f-4029-96e6-327b10a698c5": {
       "attrs": {
        "height": 0.8,
        "width": 0.8,
        "x": 0.1,
        "y": 0.1
       },
       "content": {
        "cell": "bdd0f76d-1667-4051-b3b4-025328fc02b1",
        "part": "whole"
       },
       "id": "5dbc26cf-703f-4029-96e6-327b10a698c5"
      }
     }
    },
    "28f3683a-50bb-4675-88c1-548c2b303a62": {
     "id": "28f3683a-50bb-4675-88c1-548c2b303a62",
     "prev": "8033d66a-5522-41ba-aa35-39fa48ce2b92",
     "regions": {
      "a695765e-8c35-42a2-a26c-25126abd1eb6": {
       "attrs": {
        "height": 0.8,
        "width": 0.8,
        "x": 0.1,
        "y": 0.1
       },
       "content": {
        "cell": "047359fa-dcc1-41d3-a09c-65732295d01e",
        "part": "whole"
       },
       "id": "a695765e-8c35-42a2-a26c-25126abd1eb6"
      }
     }
    },
    "2d49f8e5-2705-4ccc-b1af-c768315facc1": {
     "id": "2d49f8e5-2705-4ccc-b1af-c768315facc1",
     "prev": "eb415a14-435e-481a-8338-f6d9bc92a36c",
     "regions": {
      "e81de582-28ab-4c63-9112-dbb43ab921bb": {
       "attrs": {
        "height": 0.8,
        "width": 0.8,
        "x": 0.1,
        "y": 0.1
       },
       "content": {
        "cell": "8bf2b30b-095c-438b-a884-4de5c791b53a",
        "part": "whole"
       },
       "id": "e81de582-28ab-4c63-9112-dbb43ab921bb"
      }
     }
    },
    "2d5fb7b7-3374-4ec7-b009-bf89120a1687": {
     "id": "2d5fb7b7-3374-4ec7-b009-bf89120a1687",
     "prev": "58eb285e-4a52-4107-8dfd-d901024df531",
     "regions": {
      "1499d1d5-bb9d-406c-9e4d-51d32af91272": {
       "attrs": {
        "height": 0.8,
        "width": 0.8,
        "x": 0.1,
        "y": 0.1
       },
       "content": {
        "cell": "8f1a73d4-19f5-4b82-bdf7-fd2625fdc8db",
        "part": "whole"
       },
       "id": "1499d1d5-bb9d-406c-9e4d-51d32af91272"
      }
     }
    },
    "3fbafd70-b5ac-418d-9c96-85913db2af8b": {
     "id": "3fbafd70-b5ac-418d-9c96-85913db2af8b",
     "prev": "77d1b6f1-afc2-410b-a84f-3fbb81cc2bad",
     "regions": {
      "5a0705d1-4c15-4807-8052-a370cd2962a1": {
       "attrs": {
        "height": 0.8,
        "width": 0.8,
        "x": 0.1,
        "y": 0.1
       },
       "content": {
        "cell": "1f315689-5bc6-4bc3-be78-4e94582b3bff",
        "part": "whole"
       },
       "id": "5a0705d1-4c15-4807-8052-a370cd2962a1"
      }
     }
    },
    "431ab438-9f12-4152-95bb-18ddd32b21ea": {
     "id": "431ab438-9f12-4152-95bb-18ddd32b21ea",
     "prev": "18cc1202-82ce-4827-8821-af135d120572",
     "regions": {
      "d570fc9f-0d9d-49aa-b864-6358f52e5a51": {
       "attrs": {
        "height": 0.8,
        "width": 0.8,
        "x": 0.1,
        "y": 0.1
       },
       "content": {
        "cell": "9830e85a-7c43-4fc8-b2d2-5dd3f7920681",
        "part": "whole"
       },
       "id": "d570fc9f-0d9d-49aa-b864-6358f52e5a51"
      }
     }
    },
    "58eb285e-4a52-4107-8dfd-d901024df531": {
     "id": "58eb285e-4a52-4107-8dfd-d901024df531",
     "prev": "d80c04da-5535-43d7-bda2-62433c7eb3b1",
     "regions": {
      "0c3932a6-5780-42ba-928f-bf18710f3283": {
       "attrs": {
        "height": 0.8,
        "width": 0.8,
        "x": 0.1,
        "y": 0.1
       },
       "content": {
        "cell": "36e88d2a-ed7a-4016-abfa-c0d7c037ed8e",
        "part": "whole"
       },
       "id": "0c3932a6-5780-42ba-928f-bf18710f3283"
      }
     }
    },
    "75c318a9-1215-40ba-a0cf-19e4594b7e9f": {
     "id": "75c318a9-1215-40ba-a0cf-19e4594b7e9f",
     "prev": null,
     "regions": {
      "90744722-27c1-4e8e-83aa-b314cefdb4e8": {
       "attrs": {
        "height": 0.8,
        "width": 0.8,
        "x": 0.1,
        "y": 0.1
       },
       "content": {
        "cell": "080b598b-ce48-4a15-a094-abae91b0c73d",
        "part": "whole"
       },
       "id": "90744722-27c1-4e8e-83aa-b314cefdb4e8"
      }
     }
    },
    "77d1b6f1-afc2-410b-a84f-3fbb81cc2bad": {
     "id": "77d1b6f1-afc2-410b-a84f-3fbb81cc2bad",
     "prev": "fe19621b-e86e-45de-8f7b-a1943d122b62",
     "regions": {
      "ade3887d-a439-4b35-8fa0-46bfee462ef2": {
       "attrs": {
        "height": 0.8,
        "width": 0.8,
        "x": 0.1,
        "y": 0.1
       },
       "content": {
        "cell": "741e8e58-426e-4bba-a351-57b99a2bb985",
        "part": "whole"
       },
       "id": "ade3887d-a439-4b35-8fa0-46bfee462ef2"
      }
     }
    },
    "8033d66a-5522-41ba-aa35-39fa48ce2b92": {
     "id": "8033d66a-5522-41ba-aa35-39fa48ce2b92",
     "prev": "d5c8512f-ac32-49f3-8ff6-46b1a75c0955",
     "regions": {
      "98ac36b8-ca77-4656-abed-f1bab0f227e1": {
       "attrs": {
        "height": 0.8,
        "width": 0.8,
        "x": 0.1,
        "y": 0.1
       },
       "content": {
        "cell": "dbd796d2-7e94-4ff4-a569-24a2516ac1f8",
        "part": "whole"
       },
       "id": "98ac36b8-ca77-4656-abed-f1bab0f227e1"
      }
     }
    },
    "872bac34-d6df-46df-ac40-432d6088f9ff": {
     "id": "872bac34-d6df-46df-ac40-432d6088f9ff",
     "prev": "a9d0c0d3-3391-45ce-ad22-544cc2aa1eb8",
     "regions": {
      "ea6dff7c-c6a2-41a1-88a7-5103a7aebd41": {
       "attrs": {
        "height": 0.8,
        "width": 0.8,
        "x": 0.1,
        "y": 0.1
       },
       "content": {
        "cell": "4f8e4268-d9eb-487e-9cfb-ca35c9694de9",
        "part": "whole"
       },
       "id": "ea6dff7c-c6a2-41a1-88a7-5103a7aebd41"
      }
     }
    },
    "947361ab-1b50-418e-9ccd-323b127eba3f": {
     "id": "947361ab-1b50-418e-9ccd-323b127eba3f",
     "prev": "1ec14277-d289-473a-93da-4570ccc4ffe7",
     "regions": {
      "6b627b45-689e-42f6-80b2-8dc1c774b4d1": {
       "attrs": {
        "height": 0.8,
        "width": 0.8,
        "x": 0.1,
        "y": 0.1
       },
       "content": {
        "cell": "2dc66a97-8123-4847-ae9b-4859b82ebfec",
        "part": "whole"
       },
       "id": "6b627b45-689e-42f6-80b2-8dc1c774b4d1"
      }
     }
    },
    "9e277774-ec09-47be-b73f-ba003cf2409a": {
     "id": "9e277774-ec09-47be-b73f-ba003cf2409a",
     "prev": "872bac34-d6df-46df-ac40-432d6088f9ff",
     "regions": {
      "54d9b489-7bf8-4e78-9be6-a636c1e62f03": {
       "attrs": {
        "height": 0.8,
        "width": 0.8,
        "x": 0.1,
        "y": 0.1
       },
       "content": {
        "cell": "30cc6f99-93d8-4eb3-b20d-c26c4e619d0b",
        "part": "whole"
       },
       "id": "54d9b489-7bf8-4e78-9be6-a636c1e62f03"
      }
     }
    },
    "a9d0c0d3-3391-45ce-ad22-544cc2aa1eb8": {
     "id": "a9d0c0d3-3391-45ce-ad22-544cc2aa1eb8",
     "prev": "947361ab-1b50-418e-9ccd-323b127eba3f",
     "regions": {
      "08f1ab64-3910-4687-9919-57767b538ca1": {
       "attrs": {
        "height": 0.8,
        "width": 0.8,
        "x": 0.1,
        "y": 0.1
       },
       "content": {
        "cell": "f0d668d0-dc39-4dd3-9ba6-19090d589bbb",
        "part": "whole"
       },
       "id": "08f1ab64-3910-4687-9919-57767b538ca1"
      }
     }
    },
    "d5c8512f-ac32-49f3-8ff6-46b1a75c0955": {
     "id": "d5c8512f-ac32-49f3-8ff6-46b1a75c0955",
     "prev": "14500208-0ab6-4070-b92f-06b33f05be40",
     "regions": {
      "fea9c704-1152-4030-b87c-05420f913dfa": {
       "attrs": {
        "height": 0.8,
        "width": 0.8,
        "x": 0.1,
        "y": 0.1
       },
       "content": {
        "cell": "96579f36-533a-4f28-9945-87ff79db6d6b",
        "part": "whole"
       },
       "id": "fea9c704-1152-4030-b87c-05420f913dfa"
      }
     }
    },
    "d80c04da-5535-43d7-bda2-62433c7eb3b1": {
     "id": "d80c04da-5535-43d7-bda2-62433c7eb3b1",
     "prev": "431ab438-9f12-4152-95bb-18ddd32b21ea",
     "regions": {
      "a0e5deae-da7d-4f3c-b426-d10997fcc940": {
       "attrs": {
        "height": 0.8,
        "width": 0.8,
        "x": 0.1,
        "y": 0.1
       },
       "content": {
        "cell": "4049f8c4-5617-4264-a735-ac2607ec7461",
        "part": "whole"
       },
       "id": "a0e5deae-da7d-4f3c-b426-d10997fcc940"
      }
     }
    },
    "eb415a14-435e-481a-8338-f6d9bc92a36c": {
     "id": "eb415a14-435e-481a-8338-f6d9bc92a36c",
     "prev": "28f3683a-50bb-4675-88c1-548c2b303a62",
     "regions": {
      "ba69bb1d-22c2-49b5-b9f3-a97b4d732987": {
       "attrs": {
        "height": 0.8,
        "width": 0.8,
        "x": 0.1,
        "y": 0.1
       },
       "content": {
        "cell": "05c1bb4c-2416-4c1c-bad5-eb4455a441a0",
        "part": "whole"
       },
       "id": "ba69bb1d-22c2-49b5-b9f3-a97b4d732987"
      }
     }
    },
    "f98b4d14-b38f-4f53-b5b5-fe1612ef5104": {
     "id": "f98b4d14-b38f-4f53-b5b5-fe1612ef5104",
     "prev": "75c318a9-1215-40ba-a0cf-19e4594b7e9f",
     "regions": {
      "73038bab-1ddd-4282-bafa-3de3622f36fa": {
       "attrs": {
        "height": 0.8,
        "width": 0.8,
        "x": 0.1,
        "y": 0.1
       },
       "content": {
        "cell": "c7d9e4b9-a2f2-4d64-aeb5-2e5cd7682ea9",
        "part": "whole"
       },
       "id": "73038bab-1ddd-4282-bafa-3de3622f36fa"
      }
     }
    },
    "fe19621b-e86e-45de-8f7b-a1943d122b62": {
     "id": "fe19621b-e86e-45de-8f7b-a1943d122b62",
     "prev": "2d49f8e5-2705-4ccc-b1af-c768315facc1",
     "regions": {
      "8da30448-2b5a-438a-af76-ab9cdff2fefb": {
       "attrs": {
        "height": 0.8,
        "width": 0.8,
        "x": 0.1,
        "y": 0.1
       },
       "content": {
        "cell": "ffae9bec-c61d-489e-aeee-a0b96fb89fed",
        "part": "whole"
       },
       "id": "8da30448-2b5a-438a-af76-ab9cdff2fefb"
      }
     }
    }
   },
   "themes": {}
  }
 },
 "nbformat": 4,
 "nbformat_minor": 2
}
